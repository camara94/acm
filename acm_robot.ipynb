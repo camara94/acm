{
 "cells": [
  {
   "cell_type": "markdown",
   "metadata": {},
   "source": [
    "# Analyse des correspondances multiples (ACM)"
   ]
  },
  {
   "cell_type": "markdown",
   "metadata": {},
   "source": [
    "L'analyse des correspondances multiples (ACM) est une extension de l'analyse des correspondances (CA). Il doit être utilisé lorsque vous avez plus de deux variables catégorielles. L'idée est simplement de calculer la version encodée à chaud d'un ensemble de données et d'y appliquer CA. À titre d'exemple, nous allons utiliser le jeu de données [Balloons tiré](https://archive.ics.uci.edu/ml/machine-learning-databases/balloons/) du site Web des jeux de données UCI."
   ]
  },
  {
   "cell_type": "markdown",
   "metadata": {},
   "source": [
    "## Les types de données utilisées pour l'ACM"
   ]
  },
  {
   "cell_type": "markdown",
   "metadata": {},
   "source": [
    "decrivons d'abord à quel tableau s'applique l'**analyse des correspondances multiples(ACM)**:\n",
    "l'**ACM** s'applique aux tableaux rectanglaire avec J le nombre de variables qualitatives \n",
    ", I le nombre d'observations ou encore le nombre d'individus et \n",
    "xij : modalité de la variable où I personne sont intérogées sur J questions à choix \n",
    "multiples."
   ]
  },
  {
   "cell_type": "markdown",
   "metadata": {},
   "source": [
    "## Description de notre dataset"
   ]
  },
  {
   "cell_type": "markdown",
   "metadata": {},
   "source": [
    "nous avons appliquées notre ACM sur une base de donnée qui contient 8 portraits robots\n",
    "avec les variables suivantes: \n",
    "1. **lunettes**(a:absence, A: presence), \n",
    "2. **cheveux**(b:courts, B: longs), \n",
    "3. **barbe**(c: absence, C: longues, k: daltonien), \n",
    "4. **mouchetache**(d: abasence,D:petite, m:moyenne, T: grosse) "
   ]
  },
  {
   "cell_type": "markdown",
   "metadata": {},
   "source": [
    "![dataset robo](db.png)"
   ]
  },
  {
   "cell_type": "markdown",
   "metadata": {},
   "source": [
    "## Objectif"
   ]
  },
  {
   "cell_type": "markdown",
   "metadata": {},
   "source": [
    "les objectifs de l'analyse des correspondandances multiples sur un tel tableau est d'étudier la variabilité  et la ressemblance entre individu\n",
    "c'est à dire determiné les individus qui se ressemblent et ceux qui ont des caractéristiques différents dans une base de données  "
   ]
  },
  {
   "cell_type": "markdown",
   "metadata": {},
   "source": [
    "## Cas pratique en Python"
   ]
  },
  {
   "cell_type": "markdown",
   "metadata": {},
   "source": [
    "### Importation des packages ou librairies"
   ]
  },
  {
   "cell_type": "code",
   "execution_count": 1,
   "metadata": {},
   "outputs": [],
   "source": [
    "## on importe le package pandas pour l'importation des données(datasets)\n",
    "import pandas as pd\n",
    "## importation du package prince\n",
    "import prince as pr"
   ]
  },
  {
   "cell_type": "markdown",
   "metadata": {},
   "source": [
    "### Chargement des données (datasets)"
   ]
  },
  {
   "cell_type": "code",
   "execution_count": 2,
   "metadata": {},
   "outputs": [
    {
     "data": {
      "text/html": [
       "<div>\n",
       "<style scoped>\n",
       "    .dataframe tbody tr th:only-of-type {\n",
       "        vertical-align: middle;\n",
       "    }\n",
       "\n",
       "    .dataframe tbody tr th {\n",
       "        vertical-align: top;\n",
       "    }\n",
       "\n",
       "    .dataframe thead th {\n",
       "        text-align: right;\n",
       "    }\n",
       "</style>\n",
       "<table border=\"1\" class=\"dataframe\">\n",
       "  <thead>\n",
       "    <tr style=\"text-align: right;\">\n",
       "      <th></th>\n",
       "      <th>Lunette</th>\n",
       "      <th>Cheveux</th>\n",
       "      <th>Barbe</th>\n",
       "      <th>Moustache</th>\n",
       "    </tr>\n",
       "  </thead>\n",
       "  <tbody>\n",
       "    <tr>\n",
       "      <th>0</th>\n",
       "      <td>a</td>\n",
       "      <td>b</td>\n",
       "      <td>c</td>\n",
       "      <td>d</td>\n",
       "    </tr>\n",
       "    <tr>\n",
       "      <th>1</th>\n",
       "      <td>a</td>\n",
       "      <td>b</td>\n",
       "      <td>c</td>\n",
       "      <td>d</td>\n",
       "    </tr>\n",
       "    <tr>\n",
       "      <th>2</th>\n",
       "      <td>A</td>\n",
       "      <td>b</td>\n",
       "      <td>c</td>\n",
       "      <td>d</td>\n",
       "    </tr>\n",
       "    <tr>\n",
       "      <th>3</th>\n",
       "      <td>a</td>\n",
       "      <td>B</td>\n",
       "      <td>c</td>\n",
       "      <td>D</td>\n",
       "    </tr>\n",
       "    <tr>\n",
       "      <th>4</th>\n",
       "      <td>A</td>\n",
       "      <td>B</td>\n",
       "      <td>c</td>\n",
       "      <td>D</td>\n",
       "    </tr>\n",
       "  </tbody>\n",
       "</table>\n",
       "</div>"
      ],
      "text/plain": [
       "  Lunette Cheveux Barbe Moustache\n",
       "0       a       b     c         d\n",
       "1       a       b     c         d\n",
       "2       A       b     c         d\n",
       "3       a       B     c         D\n",
       "4       A       B     c         D"
      ]
     },
     "execution_count": 2,
     "metadata": {},
     "output_type": "execute_result"
    }
   ],
   "source": [
    "## on va charger notre dataset ACM.xlsx le fichier qui contient nos données avec la méthode read_excel() de pandas\n",
    "df = pd.read_excel('ACM.xlsx')\n",
    "## on va afficher les 4 premières lignes de notre dataset\n",
    "df.head()"
   ]
  },
  {
   "cell_type": "markdown",
   "metadata": {},
   "source": [
    "## Statistique sur notre datasets avec la méthode describe()"
   ]
  },
  {
   "cell_type": "code",
   "execution_count": 3,
   "metadata": {},
   "outputs": [
    {
     "data": {
      "text/html": [
       "<div>\n",
       "<style scoped>\n",
       "    .dataframe tbody tr th:only-of-type {\n",
       "        vertical-align: middle;\n",
       "    }\n",
       "\n",
       "    .dataframe tbody tr th {\n",
       "        vertical-align: top;\n",
       "    }\n",
       "\n",
       "    .dataframe thead th {\n",
       "        text-align: right;\n",
       "    }\n",
       "</style>\n",
       "<table border=\"1\" class=\"dataframe\">\n",
       "  <thead>\n",
       "    <tr style=\"text-align: right;\">\n",
       "      <th></th>\n",
       "      <th>Lunette</th>\n",
       "      <th>Cheveux</th>\n",
       "      <th>Barbe</th>\n",
       "      <th>Moustache</th>\n",
       "    </tr>\n",
       "  </thead>\n",
       "  <tbody>\n",
       "    <tr>\n",
       "      <th>count</th>\n",
       "      <td>8</td>\n",
       "      <td>8</td>\n",
       "      <td>8</td>\n",
       "      <td>8</td>\n",
       "    </tr>\n",
       "    <tr>\n",
       "      <th>unique</th>\n",
       "      <td>2</td>\n",
       "      <td>2</td>\n",
       "      <td>3</td>\n",
       "      <td>4</td>\n",
       "    </tr>\n",
       "    <tr>\n",
       "      <th>top</th>\n",
       "      <td>a</td>\n",
       "      <td>B</td>\n",
       "      <td>c</td>\n",
       "      <td>d</td>\n",
       "    </tr>\n",
       "    <tr>\n",
       "      <th>freq</th>\n",
       "      <td>5</td>\n",
       "      <td>5</td>\n",
       "      <td>5</td>\n",
       "      <td>3</td>\n",
       "    </tr>\n",
       "  </tbody>\n",
       "</table>\n",
       "</div>"
      ],
      "text/plain": [
       "       Lunette Cheveux Barbe Moustache\n",
       "count        8       8     8         8\n",
       "unique       2       2     3         4\n",
       "top          a       B     c         d\n",
       "freq         5       5     5         3"
      ]
     },
     "execution_count": 3,
     "metadata": {},
     "output_type": "execute_result"
    }
   ],
   "source": [
    "df.describe()"
   ]
  },
  {
   "cell_type": "markdown",
   "metadata": {},
   "source": [
    "Comme notre base de donnée ne contient que des données qualitatives nous n'avons ni la moyenne, ni la median, ni la variance,...., par contre nous avons:\n",
    "* le nombre total de ligne qui est dans notre cas **8 ligne**, \n",
    "* élément unique\n",
    "  **Lunette**: 2\n",
    "  **Cheveux**: 2\n",
    "  **Barbe**: 3\n",
    "  **Moustache**: 4\n",
    "* élément le plus fréquent\n",
    "   **Lunette**: a nombre 5\n",
    "   **Cheveux**: B nombre 5\n",
    "   **Barbe**: c nombre 5\n",
    "   **Moustache**: d nombre 3"
   ]
  },
  {
   "cell_type": "markdown",
   "metadata": {},
   "source": [
    "## Le ACM implémente également les méthodes fit et de transform."
   ]
  },
  {
   "cell_type": "code",
   "execution_count": 22,
   "metadata": {},
   "outputs": [],
   "source": [
    "acm = pr.MCA(\n",
    "     n_components=4,\n",
    "     n_iter=10,\n",
    "     copy=True,\n",
    "     check_input=True,\n",
    "     engine='auto',\n",
    "     random_state=42\n",
    ")\n",
    "acm = acm.fit(df)"
   ]
  },
  {
   "cell_type": "code",
   "execution_count": 23,
   "metadata": {},
   "outputs": [
    {
     "data": {
      "text/plain": [
       "MCA(n_components=4, random_state=42)"
      ]
     },
     "execution_count": 23,
     "metadata": {},
     "output_type": "execute_result"
    }
   ],
   "source": [
    "acm"
   ]
  },
  {
   "cell_type": "code",
   "execution_count": 24,
   "metadata": {},
   "outputs": [
    {
     "data": {
      "image/png": "[encoded data removed]",
      "text/plain": [
       "<Figure size 432x432 with 1 Axes>"
      ]
     },
     "metadata": {
      "needs_background": "light"
     },
     "output_type": "display_data"
    }
   ],
   "source": [
    "ax = acm.plot_coordinates(\n",
    "     X=df,\n",
    "     ax=None,\n",
    "     figsize=(6, 6),\n",
    "     show_row_points=True,\n",
    "     row_points_size=60,\n",
    "     show_row_labels=True,\n",
    "     show_column_points=True,\n",
    "     column_points_size=60,\n",
    "     show_column_labels=False,\n",
    "     legend_n_cols=1\n",
    ")\n",
    "ax.get_figure().savefig('images/coordonnees_acm.svg')"
   ]
  },
  {
   "cell_type": "markdown",
   "metadata": {},
   "source": [
    "## Pour visualiser les coordonnées des différents points"
   ]
  },
  {
   "cell_type": "code",
   "execution_count": 21,
   "metadata": {},
   "outputs": [
    {
     "data": {
      "text/plain": [
       "array([[-4.08248290e-01,  7.89819222e-02, -2.44086424e-01,\n",
       "        -2.06196525e-01],\n",
       "       [-4.08248290e-01,  7.89819222e-02, -2.44086424e-01,\n",
       "        -2.06196525e-01],\n",
       "       [-4.08248290e-01, -9.58131497e-02, -1.08343009e-01,\n",
       "         5.36110964e-01],\n",
       "       [ 4.01307252e-17,  2.52468413e-02,  5.28644150e-01,\n",
       "        -4.94871659e-01],\n",
       "       [-4.50400294e-16, -1.49548231e-01,  6.64387565e-01,\n",
       "         2.47435830e-01],\n",
       "       [ 4.08248290e-01, -2.87439449e-01, -3.25029028e-01,\n",
       "        -4.12393049e-01],\n",
       "       [ 4.08248290e-01, -4.62234521e-01, -1.89285613e-01,\n",
       "         3.29914440e-01],\n",
       "       [ 4.08248290e-01,  8.11824665e-01, -8.22012163e-02,\n",
       "         2.06196525e-01]])"
      ]
     },
     "execution_count": 21,
     "metadata": {},
     "output_type": "execute_result"
    }
   ],
   "source": [
    "acm.U_"
   ]
  },
  {
   "cell_type": "markdown",
   "metadata": {},
   "source": [
    "en ACM, on a la notion de tableau dijonctif complet qui signifie que dans chaque modalité on veut qu'une seule fois un(1) cet un obligatoire"
   ]
  },
  {
   "cell_type": "markdown",
   "metadata": {},
   "source": [
    "## Interpretation de nos résultats"
   ]
  },
  {
   "cell_type": "markdown",
   "metadata": {},
   "source": [
    "* D'après notre graphique, nous voyons que les les personnes 0, 1, 2 sont très proches alors c'est le groupes des gens qui n'ont ni ni barbe, ni lunette, et ont très peu de cheveux\n",
    "* les personnes 3 et 4 sont également très proches donc se sont des personnes, ce sont des personnes qui n'ont pas de barbures, qui plus de cheveux et de moustache \n",
    "* les personnes 5 et 6 ont quelques points de convergences à savoir: ils ont beaucoup de cheveux et de moustaches mais il n'ont pas de barbures\n",
    "* et enfin la personne 7 est une personne extrème car  il a trop de moustache et beaucoup de moustache, il n'a pas ni lunette"
   ]
  },
  {
   "cell_type": "markdown",
   "metadata": {},
   "source": [
    "## Résumé"
   ]
  },
  {
   "cell_type": "markdown",
   "metadata": {},
   "source": [
    "l'ACM étudie des tableaux individus x variables qualitatives\n",
    "A partir d'un petit tableau, l'ACM met en évidence les éléments de cette façon hiérarchisée"
   ]
  },
  {
   "cell_type": "markdown",
   "metadata": {},
   "source": [
    "## Ressources"
   ]
  },
  {
   "cell_type": "markdown",
   "metadata": {},
   "source": [
    "1. https://www.youtube.com/watch?v=bihScz3OXbw&ab_channel=Fran%C3%A7oisHusson\n",
    "2. https://archive.ics.uci.edu/ml/machine-learning-databases/\n",
    "3. https://github.com/MaxHalford/Prince\n",
    "4. https://pypi.org/project/prince/#correspondence-analysis-ca\n",
    "5. http://statmath.wu.ac.at/courses/CAandRelMeth/caipA.pdf"
   ]
  },
  {
   "cell_type": "code",
   "execution_count": null,
   "metadata": {},
   "outputs": [],
   "source": []
  }
 ],
 "metadata": {
  "kernelspec": {
   "display_name": "Python 3",
   "language": "python",
   "name": "python3"
  },
  "language_info": {
   "codemirror_mode": {
    "name": "ipython",
    "version": 3
   },
   "file_extension": ".py",
   "mimetype": "text/x-python",
   "name": "python",
   "nbconvert_exporter": "python",
   "pygments_lexer": "ipython3",
   "version": "3.8.5"
  }
 },
 "nbformat": 4,
 "nbformat_minor": 4
}
